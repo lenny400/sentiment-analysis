{
  "cells": [
    {
      "cell_type": "markdown",
      "metadata": {
        "id": "V3V3Ec_wTI53"
      },
      "source": [
        "# Predicting sentiment from product reviews\n",
        "\n",
        "Use product review data from Amazon.com to predict whether the sentiments about a product (from its reviews) are positive or negative."
      ]
    },
    {
      "cell_type": "code",
      "execution_count": 9,
      "metadata": {
        "id": "wVQ2GyPFTOa_"
      },
      "outputs": [],
      "source": [
        "import math\n",
        "import string\n",
        "\n",
        "import matplotlib.pyplot as plt\n",
        "import numpy as np\n",
        "import pandas as pd\n",
        "import seaborn as sns\n",
        "\n",
        "from sklearn.linear_model import LogisticRegression\n",
        "from sklearn.metrics import accuracy_score\n",
        "from sklearn.model_selection import train_test_split\n",
        "from sklearn.feature_extraction.text import CountVectorizer\n",
        "from sklearn.feature_extraction import DictVectorizer\n",
        "\n",
        "sns.set()\n",
        "%matplotlib inline"
      ]
    },
    {
      "cell_type": "code",
      "execution_count": 11,
      "metadata": {
        "id": "1_iwq7jzTlt9"
      },
      "outputs": [
        {
          "data": {
            "text/html": [
              "<div>\n",
              "<style scoped>\n",
              "    .dataframe tbody tr th:only-of-type {\n",
              "        vertical-align: middle;\n",
              "    }\n",
              "\n",
              "    .dataframe tbody tr th {\n",
              "        vertical-align: top;\n",
              "    }\n",
              "\n",
              "    .dataframe thead th {\n",
              "        text-align: right;\n",
              "    }\n",
              "</style>\n",
              "<table border=\"1\" class=\"dataframe\">\n",
              "  <thead>\n",
              "    <tr style=\"text-align: right;\">\n",
              "      <th></th>\n",
              "      <th>product_id</th>\n",
              "      <th>summary</th>\n",
              "      <th>review</th>\n",
              "      <th>rating</th>\n",
              "    </tr>\n",
              "  </thead>\n",
              "  <tbody>\n",
              "    <tr>\n",
              "      <th>0</th>\n",
              "      <td>4408</td>\n",
              "      <td>Does increase milk supply</td>\n",
              "      <td>This really helped to increase my milk supply....</td>\n",
              "      <td>3.0</td>\n",
              "    </tr>\n",
              "    <tr>\n",
              "      <th>1</th>\n",
              "      <td>4209</td>\n",
              "      <td>One bad packet ruins the product!</td>\n",
              "      <td>I should have stayed with Idahoan brand. Poor ...</td>\n",
              "      <td>1.0</td>\n",
              "    </tr>\n",
              "    <tr>\n",
              "      <th>2</th>\n",
              "      <td>8623</td>\n",
              "      <td>CAULIFLOWER PASTA!?</td>\n",
              "      <td>As the pasta cooked, I read the box to see wha...</td>\n",
              "      <td>4.0</td>\n",
              "    </tr>\n",
              "    <tr>\n",
              "      <th>3</th>\n",
              "      <td>9439</td>\n",
              "      <td>Tasty and inexpensive</td>\n",
              "      <td>I really like this cereal. The flavor is sligh...</td>\n",
              "      <td>5.0</td>\n",
              "    </tr>\n",
              "    <tr>\n",
              "      <th>4</th>\n",
              "      <td>7110</td>\n",
              "      <td>I'm Confused</td>\n",
              "      <td>The label on the bowl says 35 grams is in the ...</td>\n",
              "      <td>2.0</td>\n",
              "    </tr>\n",
              "    <tr>\n",
              "      <th>...</th>\n",
              "      <td>...</td>\n",
              "      <td>...</td>\n",
              "      <td>...</td>\n",
              "      <td>...</td>\n",
              "    </tr>\n",
              "    <tr>\n",
              "      <th>1245</th>\n",
              "      <td>2870</td>\n",
              "      <td>10 times the price</td>\n",
              "      <td>I recently bought Domino 10 lb premium cane su...</td>\n",
              "      <td>1.0</td>\n",
              "    </tr>\n",
              "    <tr>\n",
              "      <th>1246</th>\n",
              "      <td>8823</td>\n",
              "      <td>Sweet &amp; Crunchy Peanuts</td>\n",
              "      <td>While these are not the highest quality peanut...</td>\n",
              "      <td>3.0</td>\n",
              "    </tr>\n",
              "    <tr>\n",
              "      <th>1247</th>\n",
              "      <td>6343</td>\n",
              "      <td>Annies GF Mac Deluxe</td>\n",
              "      <td>I had been using Annies GF Mac n Cheese, then ...</td>\n",
              "      <td>4.0</td>\n",
              "    </tr>\n",
              "    <tr>\n",
              "      <th>1248</th>\n",
              "      <td>5801</td>\n",
              "      <td>OK, but Check the Pricing</td>\n",
              "      <td>Dr. Oz recommended this brand of coconut water...</td>\n",
              "      <td>3.0</td>\n",
              "    </tr>\n",
              "    <tr>\n",
              "      <th>1249</th>\n",
              "      <td>5115</td>\n",
              "      <td>JUST DOESN'T WORK FOR ME</td>\n",
              "      <td>I TAKE CHANCES WITH THINGS I SHOULDN'T.  END R...</td>\n",
              "      <td>2.0</td>\n",
              "    </tr>\n",
              "  </tbody>\n",
              "</table>\n",
              "<p>1250 rows × 4 columns</p>\n",
              "</div>"
            ],
            "text/plain": [
              "      product_id                            summary  \\\n",
              "0           4408          Does increase milk supply   \n",
              "1           4209  One bad packet ruins the product!   \n",
              "2           8623                CAULIFLOWER PASTA!?   \n",
              "3           9439              Tasty and inexpensive   \n",
              "4           7110                       I'm Confused   \n",
              "...          ...                                ...   \n",
              "1245        2870                 10 times the price   \n",
              "1246        8823            Sweet & Crunchy Peanuts   \n",
              "1247        6343               Annies GF Mac Deluxe   \n",
              "1248        5801          OK, but Check the Pricing   \n",
              "1249        5115           JUST DOESN'T WORK FOR ME   \n",
              "\n",
              "                                                 review  rating  \n",
              "0     This really helped to increase my milk supply....     3.0  \n",
              "1     I should have stayed with Idahoan brand. Poor ...     1.0  \n",
              "2     As the pasta cooked, I read the box to see wha...     4.0  \n",
              "3     I really like this cereal. The flavor is sligh...     5.0  \n",
              "4     The label on the bowl says 35 grams is in the ...     2.0  \n",
              "...                                                 ...     ...  \n",
              "1245  I recently bought Domino 10 lb premium cane su...     1.0  \n",
              "1246  While these are not the highest quality peanut...     3.0  \n",
              "1247  I had been using Annies GF Mac n Cheese, then ...     4.0  \n",
              "1248  Dr. Oz recommended this brand of coconut water...     3.0  \n",
              "1249  I TAKE CHANCES WITH THINGS I SHOULDN'T.  END R...     2.0  \n",
              "\n",
              "[1250 rows x 4 columns]"
            ]
          },
          "execution_count": 11,
          "metadata": {},
          "output_type": "execute_result"
        }
      ],
      "source": [
        "products = pd.read_csv('food_products.csv')"
      ]
    },
    {
      "cell_type": "code",
      "execution_count": 12,
      "metadata": {
        "id": "WuSxv122ULvy"
      },
      "outputs": [],
      "source": [
        "products = products[products['rating'] != 3]\n",
        "products = products.copy()  # This is to avoid having a view on the old data"
      ]
    },
    {
      "cell_type": "code",
      "execution_count": 13,
      "metadata": {
        "id": "OE4RVGEnUTfg"
      },
      "outputs": [
        {
          "data": {
            "text/plain": [
              "<Axes: title={'center': 'Number of reviews with a given rating'}, xlabel='rating', ylabel='Count'>"
            ]
          },
          "execution_count": 13,
          "metadata": {},
          "output_type": "execute_result"
        },
        {
          "data": {
            "image/png": "[encoded data removed]",
            "text/plain": [
              "<Figure size 640x480 with 1 Axes>"
            ]
          },
          "metadata": {},
          "output_type": "display_data"
        }
      ],
      "source": [
        "plt.title('Number of reviews with a given rating')\n",
        "sns.histplot(products['rating'])"
      ]
    },
    {
      "cell_type": "code",
      "execution_count": 14,
      "metadata": {
        "id": "GwDxMwpSUXI1"
      },
      "outputs": [],
      "source": [
        "products['sentiment'] = products['rating'].apply(lambda rating : +1 if rating > 3 else -1)"
      ]
    },
    {
      "cell_type": "code",
      "execution_count": 15,
      "metadata": {
        "id": "DJkTUvIAUa5L"
      },
      "outputs": [],
      "source": [
        "def remove_punctuation(text):\n",
        "    if type(text) is str:\n",
        "        return text.translate(str.maketrans('', '', string.punctuation))\n",
        "    else:\n",
        "        return ''\n",
        "\n",
        "products['review_clean'] = products['review'].apply(remove_punctuation)"
      ]
    },
    {
      "cell_type": "code",
      "execution_count": 16,
      "metadata": {
        "id": "z5E3_cGnUdxS"
      },
      "outputs": [],
      "source": [
        "# Make counts\n",
        "vectorizer = CountVectorizer()\n",
        "count_matrix = vectorizer.fit_transform(products['review_clean'])\n",
        "\n",
        "# Make a new DataFrame with the counts information\n",
        "product_data = pd.DataFrame(count_matrix.toarray(),\n",
        "        index=products.index,\n",
        "        columns=vectorizer.get_feature_names_out())\n",
        "\n",
        "# Add the old columns to our new DataFrame.\n",
        "product_data['sentiment'] = products['sentiment']\n",
        "product_data['review_clean'] = products['review_clean']\n",
        "product_data['summary'] = products['summary']"
      ]
    },
    {
      "cell_type": "code",
      "execution_count": 17,
      "metadata": {
        "id": "dxajldriUliW"
      },
      "outputs": [],
      "source": [
        "train_data, test_data = train_test_split(product_data, test_size=0.2, random_state=3)\n",
        "validation_data, test_data = train_test_split(test_data, test_size=0.5, random_state=3)"
      ]
    },
    {
      "cell_type": "markdown",
      "metadata": {
        "id": "EfYV6hQXTI6O"
      },
      "source": [
        "# Majority class classifier"
      ]
    },
    {
      "cell_type": "code",
      "execution_count": 18,
      "metadata": {
        "id": "QAmOnjb3Uphq"
      },
      "outputs": [],
      "source": [
        "# \"Train\" a majority class classifier and calculate its validation accuracy\n",
        "\n",
        "data = pd.DataFrame(count_matrix.toarray(),\n",
        "       index=products.index,\n",
        "       columns=vectorizer.get_feature_names_out())\n",
        "\n",
        "word_count = {}\n",
        "\n",
        "for col in data:\n",
        "  count = data[col].sum()\n",
        "  word_count[col + '_count'] = count\n",
        "\n",
        "# the most frequent sentiment\n",
        "positive_count = 0\n",
        "negative_count = 0\n",
        "\n",
        "for num in train_data['sentiment']:\n",
        "  if num == 1:\n",
        "    positive_count += 1\n",
        "  else:\n",
        "    negative_count += 1\n",
        "\n",
        "if positive_count > negative_count:\n",
        "  majority_label = 1\n",
        "else:\n",
        "  majority_label = -1\n",
        "\n",
        "majority_classifier_validation_accuracy = (validation_data['sentiment'] == majority_label).sum() / len(validation_data)"
      ]
    },
    {
      "cell_type": "markdown",
      "metadata": {
        "id": "dhFWaJ5TVscD"
      },
      "source": [
        "# Train a sentiment classifier with logistic regression"
      ]
    },
    {
      "cell_type": "code",
      "execution_count": 21,
      "metadata": {
        "id": "aDm9BL7fU7aa"
      },
      "outputs": [],
      "source": [
        "features = vectorizer.get_feature_names_out()\n",
        "\n",
        "sentiment_model = LogisticRegression(penalty='l2', random_state=1, C=1e23)\n",
        "sentiment_model.fit(train_data[features], train_data['sentiment'])\n",
        "coefficients = sentiment_model.coef_[0]"
      ]
    },
    {
      "cell_type": "markdown",
      "metadata": {
        "id": "hpuuo9PvV2Jm"
      },
      "source": [
        "# Most Positive/Negative Word"
      ]
    },
    {
      "cell_type": "code",
      "execution_count": 22,
      "metadata": {
        "id": "sdtj1CIYU8Jq"
      },
      "outputs": [],
      "source": [
        "# Find the most positive word and most negative word in the sentiment_model\n",
        "\n",
        "most_negative_word = features[np.argmin(coefficients)]\n",
        "most_positive_word = features[np.argmax(coefficients)]"
      ]
    },
    {
      "cell_type": "markdown",
      "metadata": {
        "id": "T1NywqC8V72M"
      },
      "source": [
        "# Most Positive/Negative Review"
      ]
    },
    {
      "cell_type": "code",
      "execution_count": 23,
      "metadata": {
        "id": "zQuP_GWdVF7c"
      },
      "outputs": [],
      "source": [
        "positive_idx = np.argmax(sentiment_model.predict_proba(validation_data[features])[:, 1])\n",
        "\n",
        "most_positive_review = product_data.loc[validation_data.index[positive_idx], 'review_clean']\n",
        "most_negative_review = product_data.iloc[np.argmin(sentiment_model.predict_proba(validation_data[features])[:, -1])]['review_clean']"
      ]
    },
    {
      "cell_type": "markdown",
      "metadata": {
        "id": "gz_BTNf2WOpb"
      },
      "source": [
        "# Compute validation accuracy"
      ]
    },
    {
      "cell_type": "code",
      "execution_count": 24,
      "metadata": {
        "id": "TIm6Zlt2WYPl"
      },
      "outputs": [],
      "source": [
        "from sklearn.metrics import accuracy_score\n",
        "\n",
        "pred_sentiment = sentiment_model.predict(validation_data[features])\n",
        "\n",
        "sentiment_model_validation_accuracy = accuracy_score(validation_data['sentiment'], pred_sentiment)"
      ]
    },
    {
      "cell_type": "markdown",
      "metadata": {
        "id": "26yYOd4_Wf_M"
      },
      "source": [
        "# Create a confusion matrix"
      ]
    },
    {
      "cell_type": "code",
      "execution_count": 25,
      "metadata": {
        "id": "my1jiYqFWinS"
      },
      "outputs": [],
      "source": [
        "def plot_confusion_matrix(tp, fp, fn, tn):\n",
        "    \"\"\"\n",
        "    Plots a confusion matrix using the values\n",
        "       tp - True Positive\n",
        "       fp - False Positive\n",
        "       fn - False Negative\n",
        "       tn - True Negative\n",
        "    \"\"\"\n",
        "    data = np.matrix([[tp, fp], [fn, tn]])\n",
        "\n",
        "    sns.heatmap(data,annot=True,xticklabels=['Actual Pos', 'Actual Neg']\n",
        "              ,yticklabels=['Pred. Pos', 'Pred. Neg'])"
      ]
    },
    {
      "cell_type": "markdown",
      "metadata": {
        "id": "2yFWpjbrWkYz"
      },
      "source": [
        "# Compute confusion matrix values and plot"
      ]
    },
    {
      "cell_type": "code",
      "execution_count": 26,
      "metadata": {
        "id": "RSC3QTemWnx2"
      },
      "outputs": [
        {
          "data": {
            "image/png": "[encoded data removed]",
            "text/plain": [
              "<Figure size 640x480 with 2 Axes>"
            ]
          },
          "metadata": {},
          "output_type": "display_data"
        }
      ],
      "source": [
        "tp = np.sum((validation_data['sentiment'] == 1) & (pred_sentiment == 1))\n",
        "fp = np.sum((validation_data['sentiment'] == -1) & (pred_sentiment == 1))\n",
        "fn = np.sum((validation_data['sentiment'] == 1) & (pred_sentiment == -1))\n",
        "tn = np.sum((validation_data['sentiment'] == -1) & (pred_sentiment == -1))\n",
        "\n",
        "plot_confusion_matrix(tp, fp, fn, tn)"
      ]
    },
    {
      "cell_type": "markdown",
      "metadata": {
        "id": "HrE6fsl1W4nX"
      },
      "source": [
        "# Logistic Regression with L2 regularization"
      ]
    },
    {
      "cell_type": "code",
      "execution_count": 28,
      "metadata": {
        "id": "fggAeLZSW6gc"
      },
      "outputs": [],
      "source": [
        "# Set up the regularization penalities to try\n",
        "l2_penalties = [0.01, 1, 4, 10, 1e2, 1e3, 1e5]\n",
        "l2_penalty_names = [f'coefficients [L2={l2_penalty:.0e}]'\n",
        "                    for l2_penalty in l2_penalties]\n",
        "\n",
        "# Add the coefficients to this coef_table for each model\n",
        "coef_table = pd.DataFrame(columns=['word'] + l2_penalty_names)\n",
        "coef_table['word'] = features\n",
        "\n",
        "# Set up an empty list to store the accuracies (will convert to DataFrame after loop)\n",
        "accuracy_data = []\n",
        "\n",
        "for l2_penalty, l2_penalty_column_name in zip(l2_penalties, l2_penalty_names):\n",
        "    # Train the model\n",
        "    model = LogisticRegression(penalty = 'l2', random_state = 1, C = (1/l2_penalty), fit_intercept = False)\n",
        "    model.fit(train_data[features], train_data['sentiment'])\n",
        "    # Save the coefficients in coef_table\n",
        "    coef_table[l2_penalty_column_name] = model.coef_[0]\n",
        "    # Calculate and save the train and validation accuracies\n",
        "    accuracy_data.append({\n",
        "        'l2_penalty': l2_penalty,\n",
        "        'train_accuracy': model.score(train_data[features], train_data['sentiment']),\n",
        "        'validation_accuracy': model.score(validation_data[features], validation_data['sentiment'])\n",
        "    })\n",
        "\n",
        "accuracies_table = pd.DataFrame(accuracy_data)"
      ]
    },
    {
      "cell_type": "markdown",
      "metadata": {
        "id": "q_OkVWCiXYoy"
      },
      "source": [
        "# Inspect Coefficients"
      ]
    },
    {
      "cell_type": "code",
      "execution_count": 29,
      "metadata": {
        "id": "IufdhaxbXaak"
      },
      "outputs": [],
      "source": [
        "positive_words = coef_table.nlargest(5, 'coefficients [L2=1e+00]')['word']\n",
        "\n",
        "negative_words = coef_table.nsmallest(5, 'coefficients [L2=1e+00]')['word']"
      ]
    }
  ],
  "metadata": {
    "colab": {
      "provenance": []
    },
    "kernelspec": {
      "display_name": "Python 3",
      "name": "python3"
    },
    "language_info": {
      "codemirror_mode": {
        "name": "ipython",
        "version": 3
      },
      "file_extension": ".py",
      "mimetype": "text/x-python",
      "name": "python",
      "nbconvert_exporter": "python",
      "pygments_lexer": "ipython3",
      "version": "3.12.1"
    }
  },
  "nbformat": 4,
  "nbformat_minor": 0
}
